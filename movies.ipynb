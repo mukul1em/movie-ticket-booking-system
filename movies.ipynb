{
 "cells": [
  {
   "cell_type": "code",
   "execution_count": 1,
   "source": [
    "\n",
    "from database import db, Movie\n",
    "import pandas as pd"
   ],
   "outputs": [
    {
     "output_type": "stream",
     "name": "stderr",
     "text": [
      "/Users/mukulrawat/Library/Python/3.8/lib/python/site-packages/flask_sqlalchemy/__init__.py:851: UserWarning: Neither SQLALCHEMY_DATABASE_URI nor SQLALCHEMY_BINDS is set. Defaulting SQLALCHEMY_DATABASE_URI to \"sqlite:///:memory:\".\n",
      "  warnings.warn(\n",
      "/Users/mukulrawat/Library/Python/3.8/lib/python/site-packages/flask_sqlalchemy/__init__.py:872: FSADeprecationWarning: SQLALCHEMY_TRACK_MODIFICATIONS adds significant overhead and will be disabled by default in the future.  Set it to True or False to suppress this warning.\n",
      "  warnings.warn(FSADeprecationWarning(\n"
     ]
    }
   ],
   "metadata": {}
  },
  {
   "cell_type": "code",
   "execution_count": 13,
   "source": [
    "data = pd.read_csv('collection/new.csv')\n",
    "data.head()"
   ],
   "outputs": [
    {
     "output_type": "execute_result",
     "data": {
      "text/html": [
       "<div>\n",
       "<style scoped>\n",
       "    .dataframe tbody tr th:only-of-type {\n",
       "        vertical-align: middle;\n",
       "    }\n",
       "\n",
       "    .dataframe tbody tr th {\n",
       "        vertical-align: top;\n",
       "    }\n",
       "\n",
       "    .dataframe thead th {\n",
       "        text-align: right;\n",
       "    }\n",
       "</style>\n",
       "<table border=\"1\" class=\"dataframe\">\n",
       "  <thead>\n",
       "    <tr style=\"text-align: right;\">\n",
       "      <th></th>\n",
       "      <th>Unnamed: 0</th>\n",
       "      <th>Title</th>\n",
       "      <th>Cast and crew</th>\n",
       "      <th>genres</th>\n",
       "      <th>overview</th>\n",
       "      <th>releasedate</th>\n",
       "      <th>duration</th>\n",
       "      <th>director_name</th>\n",
       "      <th>actor_1_name</th>\n",
       "      <th>actor_2_name</th>\n",
       "      <th>actor_3_name</th>\n",
       "    </tr>\n",
       "  </thead>\n",
       "  <tbody>\n",
       "    <tr>\n",
       "      <th>0</th>\n",
       "      <td>0</td>\n",
       "      <td>The 355</td>\n",
       "      <td>Simon Kinberg (director/screenplay); Theresa R...</td>\n",
       "      <td>Action Thriller</td>\n",
       "      <td>A group of top female agents from American, Br...</td>\n",
       "      <td>2022-01-05</td>\n",
       "      <td>122.0</td>\n",
       "      <td>Simon Kinberg</td>\n",
       "      <td>Jessica Chastain</td>\n",
       "      <td>Lupita Nyong'o</td>\n",
       "      <td>Penélope Cruz</td>\n",
       "    </tr>\n",
       "    <tr>\n",
       "      <th>1</th>\n",
       "      <td>1</td>\n",
       "      <td>The Legend of La Llorona</td>\n",
       "      <td>Patricia Harris Seeley (director/screenplay); ...</td>\n",
       "      <td>Horror Thriller</td>\n",
       "      <td>While vacationing in Mexico, a couple discover...</td>\n",
       "      <td>2022-01-07</td>\n",
       "      <td>98.0</td>\n",
       "      <td>Patricia Harris Seeley</td>\n",
       "      <td>Autumn Reeser</td>\n",
       "      <td>Antonio Cupo</td>\n",
       "      <td>Danny Trejo</td>\n",
       "    </tr>\n",
       "    <tr>\n",
       "      <th>2</th>\n",
       "      <td>2</td>\n",
       "      <td>The Commando</td>\n",
       "      <td>Asif Akbar (director); Koji Steven Sakai (scre...</td>\n",
       "      <td>Action Crime Thriller</td>\n",
       "      <td>An elite DEA agent returns home after a failed...</td>\n",
       "      <td>2022-01-07</td>\n",
       "      <td>93.0</td>\n",
       "      <td>Asif Akbar</td>\n",
       "      <td>Mickey Rourke</td>\n",
       "      <td>Michael Jai White</td>\n",
       "      <td>NaN</td>\n",
       "    </tr>\n",
       "    <tr>\n",
       "      <th>3</th>\n",
       "      <td>3</td>\n",
       "      <td>Scream</td>\n",
       "      <td>Matt Bettinelli-Olpin, Tyler Gillett (director...</td>\n",
       "      <td>Horror Mystery Thriller</td>\n",
       "      <td>Twenty-five years after a streak of brutal mur...</td>\n",
       "      <td>2022-01-12</td>\n",
       "      <td>114.0</td>\n",
       "      <td>Matt Bettinelli-Olpin, Tyler Gillett</td>\n",
       "      <td>Melissa Barrera</td>\n",
       "      <td>Mason Gooding</td>\n",
       "      <td>Jenna Ortega</td>\n",
       "    </tr>\n",
       "    <tr>\n",
       "      <th>4</th>\n",
       "      <td>4</td>\n",
       "      <td>Hotel Transylvania: Transformania</td>\n",
       "      <td>Jennifer Kluska, Derek Drymon (directors); Amo...</td>\n",
       "      <td>Animation Family Fantasy Comedy Adventure</td>\n",
       "      <td>When Van Helsing's mysterious invention, the \"...</td>\n",
       "      <td>2022-02-25</td>\n",
       "      <td>87.0</td>\n",
       "      <td>Jennifer Kluska, Derek Drymon</td>\n",
       "      <td>Andy Samberg</td>\n",
       "      <td>Selena Gomez</td>\n",
       "      <td>Kathryn Hahn</td>\n",
       "    </tr>\n",
       "  </tbody>\n",
       "</table>\n",
       "</div>"
      ],
      "text/plain": [
       "   Unnamed: 0                              Title  \\\n",
       "0           0                            The 355   \n",
       "1           1           The Legend of La Llorona   \n",
       "2           2                       The Commando   \n",
       "3           3                             Scream   \n",
       "4           4  Hotel Transylvania: Transformania   \n",
       "\n",
       "                                       Cast and crew  \\\n",
       "0  Simon Kinberg (director/screenplay); Theresa R...   \n",
       "1  Patricia Harris Seeley (director/screenplay); ...   \n",
       "2  Asif Akbar (director); Koji Steven Sakai (scre...   \n",
       "3  Matt Bettinelli-Olpin, Tyler Gillett (director...   \n",
       "4  Jennifer Kluska, Derek Drymon (directors); Amo...   \n",
       "\n",
       "                                      genres  \\\n",
       "0                            Action Thriller   \n",
       "1                            Horror Thriller   \n",
       "2                      Action Crime Thriller   \n",
       "3                    Horror Mystery Thriller   \n",
       "4  Animation Family Fantasy Comedy Adventure   \n",
       "\n",
       "                                            overview releasedate  duration  \\\n",
       "0  A group of top female agents from American, Br...  2022-01-05     122.0   \n",
       "1  While vacationing in Mexico, a couple discover...  2022-01-07      98.0   \n",
       "2  An elite DEA agent returns home after a failed...  2022-01-07      93.0   \n",
       "3  Twenty-five years after a streak of brutal mur...  2022-01-12     114.0   \n",
       "4  When Van Helsing's mysterious invention, the \"...  2022-02-25      87.0   \n",
       "\n",
       "                          director_name      actor_1_name       actor_2_name  \\\n",
       "0                         Simon Kinberg  Jessica Chastain     Lupita Nyong'o   \n",
       "1                Patricia Harris Seeley     Autumn Reeser       Antonio Cupo   \n",
       "2                            Asif Akbar     Mickey Rourke  Michael Jai White   \n",
       "3  Matt Bettinelli-Olpin, Tyler Gillett   Melissa Barrera      Mason Gooding   \n",
       "4         Jennifer Kluska, Derek Drymon      Andy Samberg       Selena Gomez   \n",
       "\n",
       "    actor_3_name  \n",
       "0  Penélope Cruz  \n",
       "1    Danny Trejo  \n",
       "2            NaN  \n",
       "3   Jenna Ortega  \n",
       "4   Kathryn Hahn  "
      ]
     },
     "metadata": {},
     "execution_count": 13
    }
   ],
   "metadata": {}
  },
  {
   "cell_type": "code",
   "execution_count": 3,
   "source": [
    "\n",
    "data.columns"
   ],
   "outputs": [
    {
     "output_type": "execute_result",
     "data": {
      "text/plain": [
       "Index(['Unnamed: 0', 'director_name', 'actor_1_name', 'actor_2_name',\n",
       "       'actor_3_name', 'genres', 'movie_title', 'overview', 'releasedate',\n",
       "       'duration'],\n",
       "      dtype='object')"
      ]
     },
     "metadata": {},
     "execution_count": 3
    }
   ],
   "metadata": {}
  },
  {
   "cell_type": "code",
   "execution_count": 4,
   "source": [
    "data.head()"
   ],
   "outputs": [
    {
     "output_type": "execute_result",
     "data": {
      "text/html": [
       "<div>\n",
       "<style scoped>\n",
       "    .dataframe tbody tr th:only-of-type {\n",
       "        vertical-align: middle;\n",
       "    }\n",
       "\n",
       "    .dataframe tbody tr th {\n",
       "        vertical-align: top;\n",
       "    }\n",
       "\n",
       "    .dataframe thead th {\n",
       "        text-align: right;\n",
       "    }\n",
       "</style>\n",
       "<table border=\"1\" class=\"dataframe\">\n",
       "  <thead>\n",
       "    <tr style=\"text-align: right;\">\n",
       "      <th></th>\n",
       "      <th>Unnamed: 0</th>\n",
       "      <th>director_name</th>\n",
       "      <th>actor_1_name</th>\n",
       "      <th>actor_2_name</th>\n",
       "      <th>actor_3_name</th>\n",
       "      <th>genres</th>\n",
       "      <th>movie_title</th>\n",
       "      <th>overview</th>\n",
       "      <th>releasedate</th>\n",
       "      <th>duration</th>\n",
       "    </tr>\n",
       "  </thead>\n",
       "  <tbody>\n",
       "    <tr>\n",
       "      <th>0</th>\n",
       "      <td>0</td>\n",
       "      <td>James Cameron</td>\n",
       "      <td>CCH Pounder</td>\n",
       "      <td>Joel David Moore</td>\n",
       "      <td>Wes Studi</td>\n",
       "      <td>Action|Adventure|Fantasy|Sci-Fi</td>\n",
       "      <td>avatar</td>\n",
       "      <td>In the 22nd century, a paraplegic Marine is di...</td>\n",
       "      <td>2009-12-10</td>\n",
       "      <td>162.0</td>\n",
       "    </tr>\n",
       "    <tr>\n",
       "      <th>1</th>\n",
       "      <td>1</td>\n",
       "      <td>Gore Verbinski</td>\n",
       "      <td>Johnny Depp</td>\n",
       "      <td>Orlando Bloom</td>\n",
       "      <td>Jack Davenport</td>\n",
       "      <td>Action|Adventure|Fantasy</td>\n",
       "      <td>pirates of the caribbean: at world's end</td>\n",
       "      <td>Captain Barbossa, long believed to be dead, ha...</td>\n",
       "      <td>2007-05-19</td>\n",
       "      <td>169.0</td>\n",
       "    </tr>\n",
       "    <tr>\n",
       "      <th>2</th>\n",
       "      <td>2</td>\n",
       "      <td>Sam Mendes</td>\n",
       "      <td>Christoph Waltz</td>\n",
       "      <td>Rory Kinnear</td>\n",
       "      <td>Stephanie Sigman</td>\n",
       "      <td>Action|Adventure|Thriller</td>\n",
       "      <td>spectre</td>\n",
       "      <td>A cryptic message from Bond’s past sends him o...</td>\n",
       "      <td>2015-10-26</td>\n",
       "      <td>148.0</td>\n",
       "    </tr>\n",
       "    <tr>\n",
       "      <th>3</th>\n",
       "      <td>3</td>\n",
       "      <td>Christopher Nolan</td>\n",
       "      <td>Tom Hardy</td>\n",
       "      <td>Christian Bale</td>\n",
       "      <td>Joseph Gordon-Levitt</td>\n",
       "      <td>Action|Thriller</td>\n",
       "      <td>the dark knight rises</td>\n",
       "      <td>Following the death of District Attorney Harve...</td>\n",
       "      <td>2012-07-16</td>\n",
       "      <td>165.0</td>\n",
       "    </tr>\n",
       "    <tr>\n",
       "      <th>4</th>\n",
       "      <td>4</td>\n",
       "      <td>Doug Walker</td>\n",
       "      <td>Doug Walker</td>\n",
       "      <td>Rob Walker</td>\n",
       "      <td>unknown</td>\n",
       "      <td>Documentary</td>\n",
       "      <td>star wars: episode vii - the force awakens    ...</td>\n",
       "      <td>Thirty years after defeating the Galactic Empi...</td>\n",
       "      <td>2015-12-15</td>\n",
       "      <td>136.0</td>\n",
       "    </tr>\n",
       "  </tbody>\n",
       "</table>\n",
       "</div>"
      ],
      "text/plain": [
       "   Unnamed: 0      director_name     actor_1_name      actor_2_name  \\\n",
       "0           0      James Cameron      CCH Pounder  Joel David Moore   \n",
       "1           1     Gore Verbinski      Johnny Depp     Orlando Bloom   \n",
       "2           2         Sam Mendes  Christoph Waltz      Rory Kinnear   \n",
       "3           3  Christopher Nolan        Tom Hardy    Christian Bale   \n",
       "4           4        Doug Walker      Doug Walker        Rob Walker   \n",
       "\n",
       "           actor_3_name                           genres  \\\n",
       "0             Wes Studi  Action|Adventure|Fantasy|Sci-Fi   \n",
       "1        Jack Davenport         Action|Adventure|Fantasy   \n",
       "2      Stephanie Sigman        Action|Adventure|Thriller   \n",
       "3  Joseph Gordon-Levitt                  Action|Thriller   \n",
       "4               unknown                      Documentary   \n",
       "\n",
       "                                         movie_title  \\\n",
       "0                                             avatar   \n",
       "1           pirates of the caribbean: at world's end   \n",
       "2                                            spectre   \n",
       "3                              the dark knight rises   \n",
       "4  star wars: episode vii - the force awakens    ...   \n",
       "\n",
       "                                            overview releasedate  duration  \n",
       "0  In the 22nd century, a paraplegic Marine is di...  2009-12-10     162.0  \n",
       "1  Captain Barbossa, long believed to be dead, ha...  2007-05-19     169.0  \n",
       "2  A cryptic message from Bond’s past sends him o...  2015-10-26     148.0  \n",
       "3  Following the death of District Attorney Harve...  2012-07-16     165.0  \n",
       "4  Thirty years after defeating the Galactic Empi...  2015-12-15     136.0  "
      ]
     },
     "metadata": {},
     "execution_count": 4
    }
   ],
   "metadata": {}
  },
  {
   "cell_type": "code",
   "execution_count": 14,
   "source": [
    "main_data = data.loc[:,['Title','director_name', 'duration', 'overview','actor_1_name','actor_2_name','actor_3_name','genres','releasedate','duration']]"
   ],
   "outputs": [],
   "metadata": {}
  },
  {
   "cell_type": "code",
   "execution_count": 6,
   "source": [
    "int(main_data.loc[1,['releasedate']][0].split(\"-\")[1])"
   ],
   "outputs": [
    {
     "output_type": "execute_result",
     "data": {
      "text/plain": [
       "5"
      ]
     },
     "metadata": {},
     "execution_count": 6
    }
   ],
   "metadata": {}
  },
  {
   "cell_type": "code",
   "execution_count": 7,
   "source": [
    "int(main_data.loc[1,['releasedate']][0][:4])"
   ],
   "outputs": [
    {
     "output_type": "execute_result",
     "data": {
      "text/plain": [
       "2007"
      ]
     },
     "metadata": {},
     "execution_count": 7
    }
   ],
   "metadata": {}
  },
  {
   "cell_type": "code",
   "execution_count": 8,
   "source": [
    "main_data.dropna(inplace=True)\n",
    "main_data= main_data.reset_index()"
   ],
   "outputs": [],
   "metadata": {}
  },
  {
   "cell_type": "code",
   "execution_count": 9,
   "source": [
    "db.session.rollback()"
   ],
   "outputs": [],
   "metadata": {}
  },
  {
   "cell_type": "code",
   "execution_count": 10,
   "source": [
    "type(main_data.loc[1,'duration'][0])"
   ],
   "outputs": [
    {
     "output_type": "execute_result",
     "data": {
      "text/plain": [
       "numpy.float64"
      ]
     },
     "metadata": {},
     "execution_count": 10
    }
   ],
   "metadata": {}
  },
  {
   "cell_type": "code",
   "execution_count": 15,
   "source": [
    "for i in range(main_data.shape[0]):\n",
    "    title = main_data.loc[i,'Title']\n",
    "    director = main_data.loc[i,'director_name']\n",
    "    duration = main_data.loc[i,'duration'][0]\n",
    "    actor1 = main_data.loc[i,'actor_1_name']\n",
    "    actor2 = main_data.loc[i,'actor_2_name']\n",
    "    actor3 = main_data.loc[i,'actor_3_name']\n",
    "    genre = main_data.loc[i,'genres']\n",
    "    month = int(main_data.loc[i,['releasedate']][0].split(\"-\")[1])\n",
    "    year = int(main_data.loc[i,['releasedate']][0][:4])\n",
    "    description = main_data.loc[i,['overview']][0]\n",
    "    movie = Movie(title=title, actor1=actor1, actor2=actor2, actor3=actor3, description=description,month=month, year = year, director=director, genre=genre, TimeDuraton=duration)\n",
    "    db.session.add(movie)\n",
    "    db.session.commit()\n",
    "   \n"
   ],
   "outputs": [],
   "metadata": {}
  },
  {
   "cell_type": "code",
   "execution_count": 65,
   "source": [
    "m = Movie.query.filter(Movie.month > 5).filter(Movie.month < 9).filter(Movie.year==2022).limit(9)\n",
    "for ms in m:\n",
    "    print(ms.title)"
   ],
   "outputs": [
    {
     "output_type": "stream",
     "name": "stdout",
     "text": [
      "Crimes of the Future\n",
      "Jurassic World Dominion\n",
      "Spiderhead\n",
      "Cha Cha Real Smooth\n",
      "Elvis\n",
      "The Black Phone\n",
      "Press Play\n",
      "Minions: The Rise of Gru\n",
      "Paws of Fury: The Legend of Hank\n"
     ]
    }
   ],
   "metadata": {}
  },
  {
   "cell_type": "code",
   "execution_count": 81,
   "source": [
    "\n",
    "search = \"%{}%\".format(\"comedy\")\n",
    "m = Movie.query.filter(Movie.month > 5).filter(Movie.month < 9).filter(Movie.year==2022).filter(Movie.genre.like(search)).limit(9)"
   ],
   "outputs": [],
   "metadata": {}
  },
  {
   "cell_type": "code",
   "execution_count": 82,
   "source": [
    "for ms in m:\n",
    "    print(ms.title)"
   ],
   "outputs": [
    {
     "output_type": "stream",
     "name": "stdout",
     "text": [
      "Cha Cha Real Smooth\n",
      "Minions: The Rise of Gru\n",
      "Paws of Fury: The Legend of Hank\n",
      "Bodies Bodies Bodies\n"
     ]
    }
   ],
   "metadata": {}
  },
  {
   "cell_type": "code",
   "execution_count": null,
   "source": [],
   "outputs": [],
   "metadata": {}
  }
 ],
 "metadata": {
  "orig_nbformat": 4,
  "language_info": {
   "name": "python",
   "version": "3.8.2",
   "mimetype": "text/x-python",
   "codemirror_mode": {
    "name": "ipython",
    "version": 3
   },
   "pygments_lexer": "ipython3",
   "nbconvert_exporter": "python",
   "file_extension": ".py"
  },
  "kernelspec": {
   "name": "python3",
   "display_name": "Python 3.8.2 64-bit"
  },
  "interpreter": {
   "hash": "31f2aee4e71d21fbe5cf8b01ff0e069b9275f58929596ceb00d14d90e3e16cd6"
  }
 },
 "nbformat": 4,
 "nbformat_minor": 2
}